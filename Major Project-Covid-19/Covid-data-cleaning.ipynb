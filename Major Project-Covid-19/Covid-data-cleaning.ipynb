{
 "cells": [
  {
   "cell_type": "code",
   "execution_count": null,
   "metadata": {},
   "outputs": [],
   "source": [
    "import pandas as pd\n",
    "dataset = pd.read_csv('owid-covid-data.csv')\n",
    "dataset"
   ]
  },
  {
   "cell_type": "code",
   "execution_count": null,
   "metadata": {},
   "outputs": [],
   "source": [
    "# CovidDeaths information\n",
    "df1 = dataset[['iso_code' , 'continent' , 'location' , 'date' , 'population']]\n",
    "df1"
   ]
  },
  {
   "cell_type": "code",
   "execution_count": null,
   "metadata": {},
   "outputs": [],
   "source": [
    "df2 = dataset.loc[: , ~dataset.columns.isin(['iso_code' , 'continent' , 'location' , 'date' , 'population'])] \n",
    "df2"
   ]
  },
  {
   "cell_type": "code",
   "execution_count": null,
   "metadata": {},
   "outputs": [],
   "source": [
    "loc1 = df2.columns.get_loc('new_tests')\n",
    "loc1"
   ]
  },
  {
   "cell_type": "code",
   "execution_count": null,
   "metadata": {},
   "outputs": [],
   "source": [
    "\n",
    "col1_names = []\n",
    "for col in df2.columns:\n",
    "    if df2.columns.get_loc(col) < loc1:\n",
    "        col1_names.append(col)\n",
    "\n",
    "col1_names\n"
   ]
  },
  {
   "cell_type": "code",
   "execution_count": null,
   "metadata": {},
   "outputs": [],
   "source": [
    "df3 = df2[col1_names]\n",
    "df3"
   ]
  },
  {
   "cell_type": "code",
   "execution_count": null,
   "metadata": {},
   "outputs": [],
   "source": [
    "\n",
    "iterations = []\n",
    "for index, rows in dataset.iterrows():\n",
    "    iterations.append(index + 1)\n",
    "\n",
    "iterations\n"
   ]
  },
  {
   "cell_type": "code",
   "execution_count": null,
   "metadata": {},
   "outputs": [],
   "source": [
    "# Merging the data\n",
    "df1['Iterations'] = iterations\n",
    "df3['Iterations'] = iterations\n",
    "final_data_1 = pd.merge(left = df1 , right = df3 , how = 'inner' , on = 'Iterations')\n",
    "df_a = final_data_1.drop(columns=['index_x' , 'temp_x' , 'Iterations' , 'index_y', 'temp_y'])\n",
    "df_a.info()"
   ]
  },
  {
   "cell_type": "code",
   "execution_count": null,
   "metadata": {},
   "outputs": [],
   "source": [
    "# saving the cleaned-CovidDeaths dataset\n",
    "df_a.to_csv('CovidDeaths.csv')\n",
    "\n",
    "#end of table 1........................"
   ]
  },
  {
   "cell_type": "code",
   "execution_count": null,
   "metadata": {},
   "outputs": [],
   "source": [
    "# CovidVaccination information\n",
    "import pandas as pd\n",
    "dataset = pd.read_csv('owid-covid-data.csv')\n",
    "df4 = dataset[['iso_code' , 'continent' , 'location' , 'date']] \n",
    "df4"
   ]
  },
  {
   "cell_type": "code",
   "execution_count": null,
   "metadata": {},
   "outputs": [],
   "source": [
    "df5 = dataset.loc[: , ~dataset.columns.isin(['iso_code' , 'continent' , 'location' , 'date'])] \n",
    "df5"
   ]
  },
  {
   "cell_type": "code",
   "execution_count": 16,
   "metadata": {},
   "outputs": [
    {
     "data": {
      "text/plain": [
       "22"
      ]
     },
     "execution_count": 16,
     "metadata": {},
     "output_type": "execute_result"
    }
   ],
   "source": [
    "loc2 = df5.columns.get_loc('new_tests')\n",
    "loc2"
   ]
  },
  {
   "cell_type": "code",
   "execution_count": null,
   "metadata": {},
   "outputs": [],
   "source": [
    "col2_names = []\n",
    "for col in df5.columns:\n",
    "    if df5.columns.get_loc(col) >= loc2 :\n",
    "        col2_names.append(col)\n",
    "col2_names"
   ]
  },
  {
   "cell_type": "code",
   "execution_count": null,
   "metadata": {},
   "outputs": [],
   "source": [
    "df6 = df5[col2_names]\n",
    "df6"
   ]
  },
  {
   "cell_type": "code",
   "execution_count": 34,
   "metadata": {},
   "outputs": [
    {
     "name": "stderr",
     "output_type": "stream",
     "text": [
      "C:\\Users\\devan\\AppData\\Local\\Temp\\ipykernel_25912\\2550253900.py:6: SettingWithCopyWarning: \n",
      "A value is trying to be set on a copy of a slice from a DataFrame.\n",
      "Try using .loc[row_indexer,col_indexer] = value instead\n",
      "\n",
      "See the caveats in the documentation: https://pandas.pydata.org/pandas-docs/stable/user_guide/indexing.html#returning-a-view-versus-a-copy\n",
      "  df4['Iterations'] = iters\n",
      "C:\\Users\\devan\\AppData\\Local\\Temp\\ipykernel_25912\\2550253900.py:7: SettingWithCopyWarning: \n",
      "A value is trying to be set on a copy of a slice from a DataFrame.\n",
      "Try using .loc[row_indexer,col_indexer] = value instead\n",
      "\n",
      "See the caveats in the documentation: https://pandas.pydata.org/pandas-docs/stable/user_guide/indexing.html#returning-a-view-versus-a-copy\n",
      "  df6['Iterations'] = iters\n"
     ]
    },
    {
     "name": "stdout",
     "output_type": "stream",
     "text": [
      "<class 'pandas.core.frame.DataFrame'>\n",
      "Int64Index: 242447 entries, 0 to 242446\n",
      "Data columns (total 44 columns):\n",
      " #   Column                                      Non-Null Count   Dtype  \n",
      "---  ------                                      --------------   -----  \n",
      " 0   iso_code                                    242447 non-null  object \n",
      " 1   continent                                   228812 non-null  object \n",
      " 2   location                                    242447 non-null  object \n",
      " 3   date                                        242447 non-null  object \n",
      " 4   new_tests                                   75403 non-null   float64\n",
      " 5   total_tests_per_thousand                    79387 non-null   float64\n",
      " 6   new_tests_per_thousand                      75403 non-null   float64\n",
      " 7   new_tests_smoothed                          103965 non-null  float64\n",
      " 8   new_tests_smoothed_per_thousand             103965 non-null  float64\n",
      " 9   positive_rate                               95927 non-null   float64\n",
      " 10  tests_per_case                              94348 non-null   float64\n",
      " 11  tests_units                                 106788 non-null  object \n",
      " 12  total_vaccinations                          68891 non-null   float64\n",
      " 13  people_vaccinated                           65865 non-null   float64\n",
      " 14  people_fully_vaccinated                     63205 non-null   float64\n",
      " 15  total_boosters                              38094 non-null   float64\n",
      " 16  new_vaccinations                            57105 non-null   float64\n",
      " 17  new_vaccinations_smoothed                   144132 non-null  float64\n",
      " 18  total_vaccinations_per_hundred              68891 non-null   float64\n",
      " 19  people_vaccinated_per_hundred               65865 non-null   float64\n",
      " 20  people_fully_vaccinated_per_hundred         63205 non-null   float64\n",
      " 21  total_boosters_per_hundred                  38094 non-null   float64\n",
      " 22  new_vaccinations_smoothed_per_million       144132 non-null  float64\n",
      " 23  new_people_vaccinated_smoothed              143848 non-null  float64\n",
      " 24  new_people_vaccinated_smoothed_per_hundred  143848 non-null  float64\n",
      " 25  stringency_index                            180007 non-null  float64\n",
      " 26  population_density                          211218 non-null  float64\n",
      " 27  median_age                                  195378 non-null  float64\n",
      " 28  aged_65_older                               193317 non-null  float64\n",
      " 29  aged_70_older                               194356 non-null  float64\n",
      " 30  gdp_per_capita                              194915 non-null  float64\n",
      " 31  extreme_poverty                             126982 non-null  float64\n",
      " 32  cardiovasc_death_rate                       194825 non-null  float64\n",
      " 33  diabetes_prevalence                         204962 non-null  float64\n",
      " 34  female_smokers                              147672 non-null  float64\n",
      " 35  male_smokers                                145651 non-null  float64\n",
      " 36  handwashing_facilities                      95994 non-null   float64\n",
      " 37  hospital_beds_per_thousand                  173566 non-null  float64\n",
      " 38  life_expectancy                             222406 non-null  float64\n",
      " 39  human_development_index                     190260 non-null  float64\n",
      " 40  excess_mortality_cumulative_absolute        8087 non-null    float64\n",
      " 41  excess_mortality_cumulative                 8087 non-null    float64\n",
      " 42  excess_mortality                            8116 non-null    float64\n",
      " 43  excess_mortality_cumulative_per_million     8087 non-null    float64\n",
      "dtypes: float64(39), object(5)\n",
      "memory usage: 83.2+ MB\n"
     ]
    }
   ],
   "source": [
    "iters = []\n",
    "for index, rows in dataset.iterrows():\n",
    "    iters.append(index + 1)\n",
    "\n",
    "# Merging the data......\n",
    "df4['Iterations'] = iters\n",
    "df6['Iterations'] = iters\n",
    "final_data_2 = pd.merge(left = df4 , right = df6 , how = 'inner' , on = 'Iterations')\n",
    "df_b = final_data_2.drop(columns = ['population' , 'Iterations'])\n",
    "df_b.info()"
   ]
  },
  {
   "cell_type": "code",
   "execution_count": 31,
   "metadata": {},
   "outputs": [],
   "source": [
    "#saving the cleaned-CovidVaccinations dataset\n",
    "df_b.to_csv('CovidVaccinations.csv')\n"
   ]
  }
 ],
 "metadata": {
  "kernelspec": {
   "display_name": "Python 3.9.12 ('base')",
   "language": "python",
   "name": "python3"
  },
  "language_info": {
   "codemirror_mode": {
    "name": "ipython",
    "version": 3
   },
   "file_extension": ".py",
   "mimetype": "text/x-python",
   "name": "python",
   "nbconvert_exporter": "python",
   "pygments_lexer": "ipython3",
   "version": "3.9.12"
  },
  "orig_nbformat": 4,
  "vscode": {
   "interpreter": {
    "hash": "73ef6e13cb43b34428512be7cb9c63b90c555511188f4cfb60d65389a7e8292c"
   }
  }
 },
 "nbformat": 4,
 "nbformat_minor": 2
}
